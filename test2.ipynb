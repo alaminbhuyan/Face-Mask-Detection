{
 "cells": [
  {
   "cell_type": "code",
   "execution_count": 1,
   "id": "f4dc1c75",
   "metadata": {},
   "outputs": [],
   "source": [
    "import cv2\n",
    "from keras.models import load_model\n",
    "from keras.preprocessing.image import load_img, img_to_array\n",
    "import numpy as np"
   ]
  },
  {
   "cell_type": "code",
   "execution_count": 2,
   "id": "5ee8c56a",
   "metadata": {},
   "outputs": [],
   "source": [
    "image_width, image_height = (200, 200)"
   ]
  },
  {
   "cell_type": "code",
   "execution_count": 3,
   "id": "fb55f8ab",
   "metadata": {},
   "outputs": [],
   "source": [
    "model = load_model(filepath='model.h5')"
   ]
  },
  {
   "cell_type": "code",
   "execution_count": 4,
   "id": "52395bc4",
   "metadata": {},
   "outputs": [],
   "source": [
    "face_classifier = cv2.CascadeClassifier(\"haarcascade_frontalface_default.xml\")"
   ]
  },
  {
   "cell_type": "code",
   "execution_count": 38,
   "id": "165d7df7",
   "metadata": {},
   "outputs": [
    {
     "name": "stdout",
     "output_type": "stream",
     "text": [
      "Predict Probability:  [[1.0000000e+00 2.4898724e-15]]\n",
      "Predicted:  0\n"
     ]
    }
   ],
   "source": [
    "# color_img = cv2.imread('alamin2.jpg')\n",
    "color_img = cv2.imread('withmask.jpg')\n",
    "\n",
    "gray_img = cv2.cvtColor(src=color_img, code=cv2.COLOR_BGR2GRAY)\n",
    "\n",
    "faces = face_classifier.detectMultiScale(image=gray_img, scaleFactor=1.2, minNeighbors=5)\n",
    "\n",
    "img_count = 0\n",
    "\n",
    "for (x, y, width, height) in faces:\n",
    "    \n",
    "#     org = (x,y-10)\n",
    "    \n",
    "    img_count +=1 \n",
    "    \n",
    "    color_face = color_img[y:y+height, x:x+width] # color face\n",
    "    \n",
    "    cv2.imwrite('faces/input/%dface.jpg'%(img_count),color_face)\n",
    "    \n",
    "    img = load_img('faces/input/%dface.jpg'%(img_count), target_size=(image_width,image_height))\n",
    "         \n",
    "    img = img_to_array(img)/255\n",
    "    \n",
    "    img = np.expand_dims(img,axis=0)\n",
    "    \n",
    "    pred_prob = model.predict(img)\n",
    "    \n",
    "    print(\"Predict Probability: \", pred_prob)\n",
    "    \n",
    "    pred = np.argmax(pred_prob)\n",
    "    print(\"Predicted: \", pred)\n",
    "             \n",
    "    if pred==0:\n",
    "#         print(\"User with Mask predict\", pred_prob[0][0])\n",
    "        class_label = 'Mask'\n",
    "        cv2.rectangle(img=color_img, pt1=(x, y), pt2=(x+width, y+height), color=(0,255,255), thickness=2)\n",
    "        cv2.rectangle(img=color_img, pt1=(x-1, y-45), pt2=(x+width+1, y), color=(0,255,255), thickness=cv2.FILLED)\n",
    "        cv2.putText(img=color_img, text=class_label, org=(x, y-10),\n",
    "                    fontFace=cv2.FONT_HERSHEY_SIMPLEX,\n",
    "                    fontScale=1, color=(255,0,255),\n",
    "                    thickness=2, lineType=cv2.LINE_AA)\n",
    "        \n",
    "#         cv2.imwrite(filename=\"faces/with_mask/%d%dface.jpg\" %(img_count_full, img_count), img=color_face)\n",
    " \n",
    "    else:\n",
    "#         print(\"User without Mask predict\", pred_prob[0][1])\n",
    "        class_label = 'No Mask'\n",
    "        cv2.rectangle(img=color_img, pt1=(x, y), pt2=(x+width, y+height), color=(0,255,255), thickness=2)\n",
    "        cv2.rectangle(img=color_img, pt1=(x-1, y-45), pt2=(x+width+1, y), color=(0,255,255), thickness=cv2.FILLED)\n",
    "        cv2.putText(img=color_img, text=class_label, org=(x, y-10),\n",
    "                    fontFace=cv2.FONT_HERSHEY_SIMPLEX,\n",
    "                    fontScale=1, color=(255,0,255),\n",
    "                    thickness=2, lineType=cv2.LINE_AA)\n",
    "                 \n",
    " \n",
    "     \n",
    "# display image\n",
    "cv2.imshow('LIVE face mask detection', color_img)\n",
    "     \n",
    "cv2.waitKey() \n",
    " \n",
    "#close all windows\n",
    "cv2.destroyAllWindows()"
   ]
  },
  {
   "cell_type": "code",
   "execution_count": 40,
   "id": "9d585257",
   "metadata": {},
   "outputs": [
    {
     "name": "stdout",
     "output_type": "stream",
     "text": [
      "0\n"
     ]
    }
   ],
   "source": [
    "lis = np.array([[100,1,20]])\n",
    "\n",
    "print(np.argmax(lis))"
   ]
  },
  {
   "cell_type": "code",
   "execution_count": 41,
   "id": "f125663f",
   "metadata": {},
   "outputs": [
    {
     "name": "stdout",
     "output_type": "stream",
     "text": [
      "1\n"
     ]
    }
   ],
   "source": [
    "print(np.argmin(lis))"
   ]
  }
 ],
 "metadata": {
  "kernelspec": {
   "display_name": "Python 3 (ipykernel)",
   "language": "python",
   "name": "python3"
  },
  "language_info": {
   "codemirror_mode": {
    "name": "ipython",
    "version": 3
   },
   "file_extension": ".py",
   "mimetype": "text/x-python",
   "name": "python",
   "nbconvert_exporter": "python",
   "pygments_lexer": "ipython3",
   "version": "3.10.2"
  }
 },
 "nbformat": 4,
 "nbformat_minor": 5
}
