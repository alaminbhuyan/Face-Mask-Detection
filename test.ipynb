{
 "cells": [
  {
   "cell_type": "code",
   "execution_count": 1,
   "id": "c518b64c",
   "metadata": {},
   "outputs": [],
   "source": [
    "import cv2\n",
    "import cvlib"
   ]
  },
  {
   "cell_type": "code",
   "execution_count": 30,
   "id": "c7b13f4c",
   "metadata": {},
   "outputs": [
    {
     "name": "stdout",
     "output_type": "stream",
     "text": [
      "[[108, 180, 307, 397]]\n",
      "[0.99856085]\n"
     ]
    }
   ],
   "source": [
    "# read input image\n",
    "image = cv2.imread(filename=\"alamin2.jpg\")\n",
    "\n",
    "# apply face detection\n",
    "faces, confidences = cvlib.detect_face(image=image)\n",
    "\n",
    "print(faces)\n",
    "print(confidences)\n",
    "\n",
    "# loop through detected faces\n",
    "for face,conf in zip(faces,confidences):\n",
    "\n",
    "    (startX,startY) = face[0],face[1]\n",
    "    (endX,endY) = face[2],face[3]\n",
    "    \n",
    "    my_img = image[startY : startY - endY, startX : startX - endX]\n",
    "    \n",
    "#     my_img = cv2.imread(filename=my_img)\n",
    "    \n",
    "    cv2.imwrite(filename=\"onlyface.jpg\", img=my_img)\n",
    "\n",
    "    # draw rectangle over face\n",
    "    cv2.rectangle(img=image, pt1=(startX,startY), pt2=(endX,endY), color=(0,255,0), thickness=2)\n",
    "    \n",
    "\n",
    "image2 = cv2.imread(filename=\"onlyface.jpg\")\n",
    "    \n",
    "cv2.imshow(winname=\"face_detection\", mat=image)\n",
    "cv2.imshow(winname=\"only face\", mat=image2)\n",
    "cv2.waitKey()\n",
    "\n",
    "# save output\n",
    "# cv2.imwrite(\"face_detection.jpg\", image)\n",
    "\n",
    "# release resources\n",
    "cv2.destroyAllWindows()"
   ]
  },
  {
   "cell_type": "code",
   "execution_count": null,
   "id": "ac778d96",
   "metadata": {},
   "outputs": [],
   "source": []
  },
  {
   "cell_type": "code",
   "execution_count": null,
   "id": "52d043f2",
   "metadata": {},
   "outputs": [],
   "source": []
  },
  {
   "cell_type": "code",
   "execution_count": null,
   "id": "39fa71de",
   "metadata": {},
   "outputs": [],
   "source": []
  },
  {
   "cell_type": "code",
   "execution_count": null,
   "id": "3fc16d39",
   "metadata": {},
   "outputs": [],
   "source": []
  },
  {
   "cell_type": "code",
   "execution_count": 27,
   "id": "651e10cc",
   "metadata": {},
   "outputs": [],
   "source": [
    "image = cv2.imread(filename=\"alamin2.jpg\")\n",
    "\n",
    "# face =  [[108, 180, 307, 397]] --> output like this\n",
    "# confidence = [0.99856085] --> output like this\n",
    "\n",
    "face, confidence = cvlib.detect_face(image=image, threshold=0.5, enable_gpu=True)\n",
    "\n",
    "x, y, width, height = face[0][0], face[0][1], face[0][2], face[0][3]\n",
    "\n",
    "color_img = image[y : x + x, x : y + y]\n",
    "\n",
    "# color_img = image[x : x + width, y : y + height]\n",
    "\n",
    "cv2.imwrite(filename=\"myimg.jpg\", img=color_img)\n",
    "\n",
    "cv2.rectangle(img=image, pt1=(x, y), pt2=(width, height), color=(255,0,255), thickness=2, lineType=cv2.LINE_AA)\n",
    "\n",
    "cv2.imshow(winname=\"Image\", mat=image)\n",
    "cv2.waitKey()\n",
    "cv2.destroyAllWindows()"
   ]
  },
  {
   "cell_type": "code",
   "execution_count": 23,
   "id": "74a695e8",
   "metadata": {},
   "outputs": [
    {
     "name": "stdout",
     "output_type": "stream",
     "text": [
      "x:  108\n",
      "y:  180\n",
      "width:  307\n",
      "height:  397\n"
     ]
    }
   ],
   "source": [
    "print(\"x: \", x)\n",
    "print(\"y: \", y)\n",
    "print(\"width: \", width)\n",
    "print(\"height: \", height)"
   ]
  },
  {
   "cell_type": "code",
   "execution_count": 20,
   "id": "2af359fe",
   "metadata": {},
   "outputs": [
    {
     "name": "stdout",
     "output_type": "stream",
     "text": [
      "a: 91, b: 185, width: 223, height: 223\n"
     ]
    }
   ],
   "source": [
    "face_classifier = cv2.CascadeClassifier(\"haarcascade_frontalface_default.xml\")\n",
    "\n",
    "# color_img = cv2.imread(filename=\"image_example/Trump.jpg\")\n",
    "\n",
    "color_img = cv2.imread(filename=\"alamin2.jpg\")\n",
    "\n",
    "gray_img = cv2.cvtColor(src=color_img, code=cv2.COLOR_BGR2GRAY)\n",
    "\n",
    "\n",
    "faces = face_classifier.detectMultiScale(image=gray_img, scaleFactor=1.3, minNeighbors=5)\n",
    "\n",
    "a, b, w, h = faces[0]\n",
    "\n",
    "print(f\"a: {a}, b: {b}, width: {w}, height: {h}\")\n",
    "\n",
    "c_img = color_img[b:b+h, a:a+w]\n",
    "\n",
    "cv2.imwrite(\"test.jpg\", c_img)\n",
    "\n",
    "# we iterate through our faces array and draw a rectangle\n",
    "# over each face in faces\n",
    "for (x, y, width, height) in faces:\n",
    "    cv2.rectangle(img=color_img, pt1=(x, y), pt2=(x + width, y + height), color=(127, 0, 255), thickness=2)\n",
    "\n",
    "cv2.imshow(\"Face Detection\", color_img)\n",
    "cv2.waitKey()\n",
    "\n",
    "cv2.destroyAllWindows()"
   ]
  },
  {
   "cell_type": "code",
   "execution_count": null,
   "id": "a89c0daf",
   "metadata": {},
   "outputs": [],
   "source": []
  }
 ],
 "metadata": {
  "kernelspec": {
   "display_name": "Python 3 (ipykernel)",
   "language": "python",
   "name": "python3"
  },
  "language_info": {
   "codemirror_mode": {
    "name": "ipython",
    "version": 3
   },
   "file_extension": ".py",
   "mimetype": "text/x-python",
   "name": "python",
   "nbconvert_exporter": "python",
   "pygments_lexer": "ipython3",
   "version": "3.10.2"
  }
 },
 "nbformat": 4,
 "nbformat_minor": 5
}
